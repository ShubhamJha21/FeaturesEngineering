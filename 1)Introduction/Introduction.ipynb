{
 "cells": [
  {
   "cell_type": "markdown",
   "metadata": {},
   "source": [
    "# Why Feature Selection?\n",
    "### - Shorter Training Time\n",
    "### - Easier to interpret the model\n",
    "### - Reduce Overfitting\n",
    "### - Improve Acuracy\n",
    "\n",
    "# Feature Selection Methods\n",
    "### - Filter Method\n",
    "### - Wrapper Method\n",
    "### - Embedded Method\n",
    "<img src='image.JPG'>\n",
    "\n",
    "### How to choose Feature Selection method?\n",
    "<img src='choose.png'>"
   ]
  },
  {
   "cell_type": "markdown",
   "metadata": {},
   "source": [
    "## Filter Methods\n",
    "### -  Single Factor Analysis\n",
    "### -  Uses Statistical Algorithms like Chi-Square|Fisher Score|Anova|MutualInformation|Variance\n",
    "### -  Uses Individual Feature Predictive Power\n",
    "### -  Less Computationally Expensive\n",
    "### -  Uses correlation power on feature to target space\n",
    "### -  Useful in quick screening"
   ]
  }
 ],
 "metadata": {
  "kernelspec": {
   "display_name": "Python 3",
   "language": "python",
   "name": "python3"
  },
  "language_info": {
   "codemirror_mode": {
    "name": "ipython",
    "version": 3
   },
   "file_extension": ".py",
   "mimetype": "text/x-python",
   "name": "python",
   "nbconvert_exporter": "python",
   "pygments_lexer": "ipython3",
   "version": "3.8.1"
  }
 },
 "nbformat": 4,
 "nbformat_minor": 4
}
